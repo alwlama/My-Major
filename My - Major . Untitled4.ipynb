{
  "nbformat": 4,
  "nbformat_minor": 0,
  "metadata": {
    "colab": {
      "provenance": [],
      "authorship_tag": "ABX9TyPqGLa8vvq9WStOQT9+Mm2f",
      "include_colab_link": true
    },
    "kernelspec": {
      "name": "python3",
      "display_name": "Python 3"
    },
    "language_info": {
      "name": "python"
    }
  },
  "cells": [
    {
      "cell_type": "markdown",
      "metadata": {
        "id": "view-in-github",
        "colab_type": "text"
      },
      "source": [
        "<a href=\"https://colab.research.google.com/github/alwlama/My-Major/blob/main/My%20-%20Major%20.%20Untitled4.ipynb\" target=\"_parent\"><img src=\"https://colab.research.google.com/assets/colab-badge.svg\" alt=\"Open In Colab\"/></a>"
      ]
    },
    {
      "cell_type": "markdown",
      "source": [
        "#**<font color = 'red'> 중국경제통상학과🙋**\n",
        "\n",
        "##***1. What is the Department of Chinese Economics and Commerce?***\n",
        "- The Department of Chinese Economics and Trade is a department that studies <font color = 'Yellow'> China's economy and international trade.\n",
        "\n",
        "\n",
        "##***2. Characteristics of the Department of Chinese Economics and Commerce***\n",
        "- The internationalization program allows you to attend <font color = 'Yellow'> a local university in China as an exchange student for one year.\n",
        "\n",
        "\n",
        "| <font color = 'red'> # | <font color = 'red'> Sister University of China Department of Economics and Commerce |\n",
        "| :-: | :-: |\n",
        "| <font color = 'black'>1 | <font color = 'black'> 절강대학교 |\n",
        "| <font color = 'black'> 2 | <font color = 'black'> 대외경제무역대학 |\n",
        "| <font color = 'black'> 3 | <font color = 'black'> 서북대학 |\n",
        "| <font color = 'black'> 4 | <font color = 'black'> 서안교통대학 |\n",
        "\n",
        "\n",
        "##***3. Chinese Department of Economics and Commerce related website***\n",
        "\n",
        "- [중국경제통상학과  HomePage](https://www.hannam.ac.kr/kor/educate/educate_0104_08.html)\n",
        "\n",
        "- [중국경제통상학과 Instagram](https://www.instagram.com/hnu.haru/)\n",
        "\n",
        "\n",
        "\n",
        "\n"
      ],
      "metadata": {
        "id": "lk6jmTuYbdO1"
      }
    }
  ]
}